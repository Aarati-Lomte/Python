{
 "cells": [
  {
   "cell_type": "markdown",
   "id": "ac9a2b0d",
   "metadata": {},
   "source": [
    "\n",
    "# Python Tutorial"
   ]
  },
  {
   "cell_type": "markdown",
   "id": "d973bb55",
   "metadata": {},
   "source": [
    "## Printing"
   ]
  },
  {
   "cell_type": "code",
   "execution_count": 2,
   "id": "e223f1a2",
   "metadata": {},
   "outputs": [
    {
     "name": "stdout",
     "output_type": "stream",
     "text": [
      "Hello Wolrd\n",
      "9\n",
      "19\n"
     ]
    }
   ],
   "source": [
    "print(\"Hello Wolrd\")\n",
    "print(9)\n",
    "print(10+9)     "
   ]
  },
  {
   "cell_type": "markdown",
   "id": "80b85db4",
   "metadata": {},
   "source": [
    "## Variables"
   ]
  },
  {
   "cell_type": "code",
   "execution_count": 6,
   "id": "0639c721",
   "metadata": {},
   "outputs": [
    {
     "name": "stdout",
     "output_type": "stream",
     "text": [
      "Pushpa 30 25.99\n",
      "Your name is :  Pushpa\n"
     ]
    }
   ],
   "source": [
    "name = \"Pushpa\"   #string variable\n",
    "age = 30          #integer variable\n",
    "price = 25.99     #float variable\n",
    "\n",
    "print(name,age,price)  #print variable \n",
    "print(\"Your name is : \",name) #Print variable with strings"
   ]
  },
  {
   "cell_type": "markdown",
   "id": "49cf47cc",
   "metadata": {},
   "source": [
    "***Note :***\n",
    "- variable name can have any character, digit and underscore.\\\n",
    "- variable name can not start with number so 1var in not valid but var1 is valid\\\n",
    "- variable name can not have special characters like !@#$%& etc\\\n",
    "- You cannot set variable name as keywords(e.g. Ture, False, return, for etc)\\\n",
    "\n",
    "***Python is case sensitive language. That means lowercase variable name is not same as uppercase variable name.\n",
    "Variable age and Age are 2 different variables***"
   ]
  },
  {
   "cell_type": "code",
   "execution_count": 8,
   "id": "7d74fbbb",
   "metadata": {},
   "outputs": [
    {
     "name": "stdout",
     "output_type": "stream",
     "text": [
      "36\n",
      "40\n",
      "20\n"
     ]
    }
   ],
   "source": [
    "age=36\n",
    "Age=40\n",
    "AGE=20\n",
    "\n",
    "print(age)\n",
    "print(Age)\n",
    "print(AGE)"
   ]
  },
  {
   "cell_type": "markdown",
   "id": "b1cecc29",
   "metadata": {},
   "source": [
    "***type() function : gives the data type of the variable***"
   ]
  },
  {
   "cell_type": "code",
   "execution_count": 7,
   "id": "0e2dfcea",
   "metadata": {},
   "outputs": [
    {
     "name": "stdout",
     "output_type": "stream",
     "text": [
      "<class 'str'>\n",
      "<class 'int'>\n",
      "<class 'float'>\n"
     ]
    }
   ],
   "source": [
    "print(type(name))\n",
    "print(type(age))\n",
    "print(type(price))"
   ]
  },
  {
   "cell_type": "markdown",
   "id": "671c554f",
   "metadata": {},
   "source": [
    "## Data Types\n",
    "***Python is implict typed language that means you don't have to mention data type while delcaring variable***\n",
    "### 1.Integer\n",
    "- Integer variable can store +ve or -ve number (20 or -20) and also 0"
   ]
  },
  {
   "cell_type": "code",
   "execution_count": 9,
   "id": "2cab63a6",
   "metadata": {},
   "outputs": [
    {
     "name": "stdout",
     "output_type": "stream",
     "text": [
      "<class 'int'>\n"
     ]
    }
   ],
   "source": [
    "age=26\n",
    "print(type(age))"
   ]
  },
  {
   "cell_type": "markdown",
   "id": "2f03dff7",
   "metadata": {},
   "source": [
    "### 2.Strings\n",
    "- String datatype variable can store any charachter like a-z, A-Z, 0-9 and special character !@#$%^&*"
   ]
  },
  {
   "cell_type": "code",
   "execution_count": 15,
   "id": "25b40bdf",
   "metadata": {},
   "outputs": [
    {
     "name": "stdout",
     "output_type": "stream",
     "text": [
      "Rahul 30 priya@#*% <class 'str'>\n"
     ]
    }
   ],
   "source": [
    "#different ways of asigning string value to a variable\n",
    "name1 =\"Rahul\" #mostly used\n",
    "name2 ='30'\n",
    "name3 ='''priya@#*%'''\n",
    "\n",
    "print(name1,name2,name3,type(name3))  #if you use single print function then it will print the output in same line"
   ]
  },
  {
   "cell_type": "markdown",
   "id": "3e727562",
   "metadata": {},
   "source": [
    "***Indexing***\\\n",
    "string index starts from 0 \\\n",
    "  a p p l e\\\n",
    "  0 1 2 3 4\n",
    "\n",
    "you can access any character from string using index\n",
    "\n",
    "note : you cannot change the value of string using index"
   ]
  },
  {
   "cell_type": "code",
   "execution_count": 46,
   "id": "f607c606",
   "metadata": {},
   "outputs": [
    {
     "name": "stdout",
     "output_type": "stream",
     "text": [
      "e\n"
     ]
    }
   ],
   "source": [
    "food=\"Cake\"\n",
    "print(food[3])\n",
    "\n",
    "#food[3]=\"o\"   ----this will give the error as 'str' object does not support item assignment"
   ]
  },
  {
   "cell_type": "markdown",
   "id": "e749fec5",
   "metadata": {},
   "source": [
    "***Slicing***\\\n",
    "you can access part of string or substring using slicing\\\n",
    "str[0:2] this will give you string from 0 index to 1st index as 2 index is not included\n",
    "\n",
    "to travers string in revrse manner you can use negative indexing\\\n",
    " a  p  p  l  e\\\n",
    "-5 -4 -3 -2 -1"
   ]
  },
  {
   "cell_type": "code",
   "execution_count": 60,
   "id": "e63c110e",
   "metadata": {},
   "outputs": [
    {
     "name": "stdout",
     "output_type": "stream",
     "text": [
      "Piz\n",
      "zz\n",
      "zza\n",
      "Pizz\n",
      "izz\n",
      "\n"
     ]
    }
   ],
   "source": [
    "food=\"Pizza\"\n",
    "print(food[0:3])\n",
    "print(food[2:4])\n",
    "print(food[2:])  #when you not provide ending index it will by default take last index\n",
    "print(food[:4])  #when you not provide starting index it by default take 0\n",
    "\n",
    "print(food[-4:-1])"
   ]
  },
  {
   "cell_type": "markdown",
   "id": "ab0f85be",
   "metadata": {},
   "source": [
    "***String Functions***\n",
    "There are many string functions present in python some are given below\\\n",
    "\n",
    "len() --gives length of string\\\n",
    "str.capitalize() --convert first letter of string in upper case\\\n",
    "str.endswith(\"s\") --checks if string is ending with s or not\\\n",
    "str.count(\"@\") --counts no. of times @ is present in the string\\\n",
    "str.find(\"%\") --returns the index where first % character is found"
   ]
  },
  {
   "cell_type": "code",
   "execution_count": 66,
   "id": "b5c7bdf8",
   "metadata": {},
   "outputs": [
    {
     "name": "stdout",
     "output_type": "stream",
     "text": [
      "length :  30\n",
      "capitalized string: My name is riya. my age is 23.\n",
      "string ends with (he) ? False\n",
      "count of string 'my' : 2\n",
      "string 'Riya' is present at index : 11\n"
     ]
    }
   ],
   "source": [
    "str1=\"my Name is Riya. my age is 23.\"\n",
    "\n",
    "print(\"length : \",len(str1))\n",
    "print(\"capitalized string:\",str1.capitalize())\n",
    "print(\"string ends with (he) ?\",str1.endswith(\"he\"))\n",
    "print(\"count of string 'my' :\",str1.count(\"my\"))\n",
    "print(\"string 'Riya' is present at index :\",str1.find(\"Riya\"))"
   ]
  },
  {
   "cell_type": "markdown",
   "id": "44edc1bd",
   "metadata": {},
   "source": [
    "### 3.Float\n",
    "- float datatype variable can store decimal values"
   ]
  },
  {
   "cell_type": "code",
   "execution_count": 13,
   "id": "586c2a5c",
   "metadata": {},
   "outputs": [
    {
     "name": "stdout",
     "output_type": "stream",
     "text": [
      "<class 'float'> 20.9\n"
     ]
    }
   ],
   "source": [
    "price=20.9\n",
    "print(type(price),price)"
   ]
  },
  {
   "cell_type": "markdown",
   "id": "c03ecac6",
   "metadata": {},
   "source": [
    "### 4.Boolean\n",
    "- Boolean datatype variable can store boolean value i.e True or False (T & F should be in uppercase)"
   ]
  },
  {
   "cell_type": "code",
   "execution_count": 14,
   "id": "172c7ba7",
   "metadata": {},
   "outputs": [
    {
     "name": "stdout",
     "output_type": "stream",
     "text": [
      "<class 'bool'> False\n"
     ]
    }
   ],
   "source": [
    "result1=True\n",
    "result2=False\n",
    "\n",
    "print(type(result1),result2)"
   ]
  },
  {
   "cell_type": "markdown",
   "id": "b9c0c1f2",
   "metadata": {},
   "source": [
    "### 5.None\n",
    "\n",
    "- None datatype is used when you don't want to assign any value to the variable but want to just declare the variable "
   ]
  },
  {
   "cell_type": "code",
   "execution_count": 16,
   "id": "7d67123a",
   "metadata": {},
   "outputs": [
    {
     "name": "stdout",
     "output_type": "stream",
     "text": [
      "<class 'NoneType'> None\n"
     ]
    }
   ],
   "source": [
    "grade = None\n",
    "print(type(grade),grade)"
   ]
  },
  {
   "cell_type": "markdown",
   "id": "8388aba9",
   "metadata": {},
   "source": [
    "## Types of operators\n",
    "\n",
    "- Arithmatic operator (+,-,*,/,//,%,**)\n",
    "- Relational/Comparison operator (==,!=,>,<,>=,<=,)\n",
    "- Assignment operator (=,-=,*=,/=,%=,//=,**=)\n",
    "- Logical Operator (not, and , or)\n",
    "- Membership Operator (in, not in)\n",
    "- Identity Operator (is, is not)\n",
    "- Bitwise Operator (&, |, ^)"
   ]
  },
  {
   "cell_type": "markdown",
   "id": "c8b86ec5",
   "metadata": {},
   "source": [
    "## Expression Execution\n",
    "\n",
    "- String & number values can operate together with *"
   ]
  },
  {
   "cell_type": "code",
   "execution_count": 20,
   "id": "68128fb8",
   "metadata": {},
   "outputs": [
    {
     "name": "stdout",
     "output_type": "stream",
     "text": [
      "@@@@@@\n"
     ]
    }
   ],
   "source": [
    "a,b = 2,3  # multiple variables can assign value together like this\n",
    "txt = \"@\"\n",
    "print(2*txt*3)"
   ]
  },
  {
   "cell_type": "markdown",
   "id": "f8cd2797",
   "metadata": {},
   "source": [
    "- String & String values can operate with +"
   ]
  },
  {
   "cell_type": "code",
   "execution_count": 43,
   "id": "9b6a4e92",
   "metadata": {},
   "outputs": [
    {
     "name": "stdout",
     "output_type": "stream",
     "text": [
      "2@2@2@\n"
     ]
    }
   ],
   "source": [
    "a,b = \"2\",3\n",
    "txt = \"@\"\n",
    "print((a+txt)*b)  # + sign concate the 2 string variable values"
   ]
  },
  {
   "cell_type": "markdown",
   "id": "ca5df1c9",
   "metadata": {},
   "source": [
    "- numeric values can operate with all arithmatic operators"
   ]
  },
  {
   "cell_type": "code",
   "execution_count": 23,
   "id": "63b48e75",
   "metadata": {},
   "outputs": [
    {
     "name": "stdout",
     "output_type": "stream",
     "text": [
      "2\n"
     ]
    }
   ],
   "source": [
    "a,b,c= 2,3,-4\n",
    "print(a*b+c)"
   ]
  },
  {
   "cell_type": "markdown",
   "id": "ec73135d",
   "metadata": {},
   "source": [
    "- Arithmatic operation with integer and float result in float"
   ]
  },
  {
   "cell_type": "code",
   "execution_count": 25,
   "id": "de95900d",
   "metadata": {},
   "outputs": [
    {
     "name": "stdout",
     "output_type": "stream",
     "text": [
      "1.0\n",
      "1.5\n"
     ]
    }
   ],
   "source": [
    "a,b = 2,0.5\n",
    "print(a*b)\n",
    "print(a-b)"
   ]
  },
  {
   "cell_type": "markdown",
   "id": "9a15e54a",
   "metadata": {},
   "source": [
    "- Integer division with float and int will give int but displays as float value\n",
    "\n",
    "integer division gives closest integer, which is lesser than or equal to float value\n",
    "e.g  0.1 -> 0\\\n",
    "5.2 -> 5\\\n",
    "7.99 ->7\\\n",
    "-5.3 ->-6\\\n",
    "5.0 -> 5\\\n",
    "2 -> 2 "
   ]
  },
  {
   "cell_type": "code",
   "execution_count": 30,
   "id": "79ba86e2",
   "metadata": {},
   "outputs": [
    {
     "name": "stdout",
     "output_type": "stream",
     "text": [
      "0.5 0.0\n"
     ]
    }
   ],
   "source": [
    "a,b=1.5,3\n",
    "print(a/b,a//b)  ## ineger division(//) gives result as 0 but displayed as 0.0\n",
    "\n"
   ]
  },
  {
   "cell_type": "markdown",
   "id": "d4313454",
   "metadata": {},
   "source": [
    "## User Inputs"
   ]
  },
  {
   "cell_type": "code",
   "execution_count": 34,
   "id": "7b824b1b",
   "metadata": {},
   "outputs": [
    {
     "name": "stdout",
     "output_type": "stream",
     "text": [
      "Name : raj\n",
      "Age : 34\n",
      "Result : True\n"
     ]
    }
   ],
   "source": [
    "#String input\n",
    "name = input(\"Name : \")\n",
    "\n",
    "#int input\n",
    "age = int(input(\"Age : \"))\n",
    "\n",
    "#Boolean input\n",
    "result= bool(input(\"Result : \"))"
   ]
  },
  {
   "cell_type": "markdown",
   "id": "f269a320",
   "metadata": {},
   "source": [
    "## Conditional Statements\n",
    "\n",
    "### if-elif-else \n",
    "\n",
    "note : you can write if in different ways as per your need as below \n",
    "1. if-elif-else\n",
    "2. if-elif-elif-...-else\n",
    "3. if-elif\n",
    "4. if-else\n",
    "5. if"
   ]
  },
  {
   "cell_type": "code",
   "execution_count": 37,
   "id": "2a995165",
   "metadata": {},
   "outputs": [
    {
     "name": "stdout",
     "output_type": "stream",
     "text": [
      "Age :23\n",
      "Adult\n"
     ]
    }
   ],
   "source": [
    "age= int(input(\"Age :\"))\n",
    "\n",
    "if(age>=18):\n",
    "    print(\"Adult\")\n",
    "elif(age>=10 and age<18):\n",
    "    print(\"young\")\n",
    "else:\n",
    "    print(\"child\")"
   ]
  },
  {
   "cell_type": "markdown",
   "id": "735ccbdd",
   "metadata": {},
   "source": [
    "### Nested if-else\n",
    "\n",
    "when one if condition has another if condition then it is called nested if"
   ]
  },
  {
   "cell_type": "code",
   "execution_count": 68,
   "id": "728c72a5",
   "metadata": {},
   "outputs": [
    {
     "name": "stdout",
     "output_type": "stream",
     "text": [
      "enter a no.:30\n",
      "num is even number and greater than 20\n"
     ]
    }
   ],
   "source": [
    "##check if the input no. is greater than 20 if yes then check if it is even no. or not, else print no. is less than 20\n",
    "\n",
    "num=int(input(\"enter a no.:\"))\n",
    "\n",
    "if(num>20):\n",
    "    if(num%2==0):\n",
    "        print(\"num is even number and greater than 20\")\n",
    "    else:\n",
    "        print(\"num is odd number and greater than 20\")\n",
    "else:\n",
    "    print(\"num is less than 20\")"
   ]
  },
  {
   "cell_type": "markdown",
   "id": "4bdc5228",
   "metadata": {},
   "source": [
    "### Ternary Operator\n",
    "\n",
    "***termary operator is nothing but single line if statement***\n",
    "\n",
    "Syntax: \\\n",
    "***singleline if***\\\n",
    "(var) = (var_1) if (condition) else (var_2) \\\n",
    "if condition is true then it will print var_1 else it will print var_2 and store it in var\n",
    "\n",
    "***clever if***\\\n",
    "(var)=(false_val,true_value) [condition]"
   ]
  },
  {
   "cell_type": "code",
   "execution_count": 41,
   "id": "520f1adb",
   "metadata": {},
   "outputs": [
    {
     "name": "stdout",
     "output_type": "stream",
     "text": [
      "food :cake\n",
      "yes\n",
      "No\n"
     ]
    }
   ],
   "source": [
    "food = input(\"food :\")\n",
    "\n",
    "eat= \"yes\" if food == \"cake\" else \"no\"   # == is used in if for comparison, not =\n",
    "print(eat)\n",
    "\n",
    "#clever if\n",
    "eat2= (\"No\",\"Yes\") [food!=\"cake\"]\n",
    "print(eat2)"
   ]
  },
  {
   "cell_type": "markdown",
   "id": "800cf1f3",
   "metadata": {},
   "source": [
    "## Built-in Datatype\n",
    "\n",
    "### 1.List\n",
    "\n",
    "- List is bulit-in datatype that stores set of values of any datatype\n",
    "- In one list we can store different datatype values together\n",
    "- list mostly work same as string but the main difference between list and string is that string is inmutable but list is mutable\n",
    "- list can also store another list,tuple,dictionory,set\n",
    "- list index is also starts from 0"
   ]
  },
  {
   "cell_type": "code",
   "execution_count": 2,
   "id": "22b3876e",
   "metadata": {},
   "outputs": [
    {
     "name": "stdout",
     "output_type": "stream",
     "text": [
      "[20, 40, 50, 60, 50]\n",
      "<class 'list'>\n"
     ]
    }
   ],
   "source": [
    "marks=[20,40,50,60,50]\n",
    "\n",
    "print(marks)\n",
    "print(type(marks))"
   ]
  },
  {
   "cell_type": "code",
   "execution_count": 3,
   "id": "b7529834",
   "metadata": {},
   "outputs": [
    {
     "name": "stdout",
     "output_type": "stream",
     "text": [
      "['Raj', 20, 'class-A', 20.5]\n"
     ]
    }
   ],
   "source": [
    "student=[\"Raj\",30,\"class-A\",20.5] #list with different datatypes\n",
    "\n",
    "#we can change the value of list object\n",
    "student[1]=20\n",
    "print(student)"
   ]
  },
  {
   "cell_type": "code",
   "execution_count": 4,
   "id": "6e231245",
   "metadata": {},
   "outputs": [
    {
     "name": "stdout",
     "output_type": "stream",
     "text": [
      "['tue', 'wed', 'thus']\n",
      "['wed', 'thus', 'fir', 'sat', 'sun']\n",
      "['mon', 'tue', 'wed']\n",
      "['fir', 'sat']\n"
     ]
    }
   ],
   "source": [
    "#Slicing\n",
    "days=[\"mon\",\"tue\",\"wed\",\"thus\",\"fir\",\"sat\",\"sun\"]\n",
    "\n",
    "print(days[1:4])\n",
    "print(days[2:])\n",
    "print(days[:3])\n",
    "print(days[-3:-1])"
   ]
  },
  {
   "cell_type": "markdown",
   "id": "704f4511",
   "metadata": {},
   "source": [
    "***List Functions***"
   ]
  },
  {
   "cell_type": "code",
   "execution_count": 16,
   "id": "21c01cc1",
   "metadata": {},
   "outputs": [
    {
     "name": "stdout",
     "output_type": "stream",
     "text": [
      "Length of list : 5\n",
      "Append 80 at the end : [20, 40, 50, 60, 50, 80]\n",
      "sort list in ascending order : [20, 40, 50, 50, 60, 80]\n",
      "sort list in descending order : [80, 60, 50, 50, 40, 20]\n",
      "reverse the list : [20, 40, 50, 50, 60, 80]\n",
      "insert 74 at the 3rd index position : [20, 40, 50, 74, 50, 60, 80]\n",
      "Remove 50 from list : [20, 40, 74, 50, 60, 80]\n",
      "pop the value at the index 5 : [20, 40, 74, 50, 60]\n"
     ]
    }
   ],
   "source": [
    "#list Functions\n",
    "marks=[20,40,50,60,50]\n",
    "\n",
    "#length\n",
    "print(\"Length of list :\",len(marks))\n",
    "\n",
    "#append\n",
    "marks.append(80)  #adds given value at the end of list\n",
    "print(\"Append 80 at the end :\",marks)\n",
    "\n",
    "#sort\n",
    "marks.sort()  #sort list in ascending order\n",
    "print(\"sort list in ascending order :\",marks)\n",
    "\n",
    "marks.sort(reverse=True)  #sort list in descending order\n",
    "print(\"sort list in descending order :\",marks)\n",
    "\n",
    "#reverse\n",
    "marks.reverse()  #reverse the list\n",
    "print(\"reverse the list :\",marks)\n",
    "\n",
    "#insert\n",
    "marks.insert(3,74)\n",
    "print(\"insert 74 at the 3rd index position :\",marks)\n",
    "\n",
    "#remove\n",
    "marks.remove(50)  #it will delete first 50 value from the list\n",
    "print(\"Remove 50 from list :\",marks)\n",
    "\n",
    "#pop\n",
    "marks.pop(5)\n",
    "print(\"pop the value at the index 5 :\",marks)"
   ]
  },
  {
   "cell_type": "markdown",
   "id": "2b4d9b74",
   "metadata": {},
   "source": [
    "## 2.Tuple\n",
    "\n",
    "- Tuple is a bulit-in datatype that is immutable sequence of values\n",
    "- syntax: tup=(val1,val2,val3)\n",
    "- empty tuple : tup=()\n",
    "- when you want to keep only one value then just add ',' at the end e.g tup=(3,)\n",
    "\n"
   ]
  },
  {
   "cell_type": "code",
   "execution_count": 17,
   "id": "28953b33",
   "metadata": {},
   "outputs": [
    {
     "name": "stdout",
     "output_type": "stream",
     "text": [
      "('mon', 'tue', 'wed', 'thus', 'fir', 'sat', 'sun')\n",
      "<class 'tuple'>\n"
     ]
    }
   ],
   "source": [
    "week_days=(\"mon\",\"tue\",\"wed\",\"thus\",\"fir\",\"sat\",\"sun\")\n",
    "\n",
    "print(week_days)\n",
    "print(type(week_days))"
   ]
  },
  {
   "cell_type": "markdown",
   "id": "3bb6bec0",
   "metadata": {},
   "source": [
    "### Tuple Functions"
   ]
  },
  {
   "cell_type": "code",
   "execution_count": 19,
   "id": "ef6f962a",
   "metadata": {},
   "outputs": [
    {
     "name": "stdout",
     "output_type": "stream",
     "text": [
      "2\n",
      "1\n"
     ]
    }
   ],
   "source": [
    "#Tuple methods\n",
    "week_days=(\"mon\",\"tue\",\"wed\",\"thus\",\"fir\",\"sat\",\"sun\")\n",
    "\n",
    "#index\n",
    "print(week_days.index(\"wed\"))\n",
    "\n",
    "#count\n",
    "print(week_days.count(\"mon\"))"
   ]
  },
  {
   "cell_type": "markdown",
   "id": "c848742c",
   "metadata": {},
   "source": [
    "## Practice exercise\n",
    "\n",
    "1.Write a program to ask the user to enter names of their 3 favorite color and store them in a list"
   ]
  },
  {
   "cell_type": "code",
   "execution_count": 21,
   "id": "90aeb649",
   "metadata": {},
   "outputs": [
    {
     "name": "stdout",
     "output_type": "stream",
     "text": [
      "pink\n",
      "black\n",
      "red\n",
      "['pink', 'black', 'red']\n"
     ]
    }
   ],
   "source": [
    "colors=[]\n",
    "colors.append(input())\n",
    "colors.append(input())\n",
    "colors.append(input())\n",
    "\n",
    "print(colors)"
   ]
  },
  {
   "cell_type": "markdown",
   "id": "99312c6d",
   "metadata": {},
   "source": [
    "2. write a program to check if a list contains a palindrome of elements"
   ]
  },
  {
   "cell_type": "code",
   "execution_count": 23,
   "id": "d6e16e68",
   "metadata": {},
   "outputs": [
    {
     "name": "stdout",
     "output_type": "stream",
     "text": [
      "list contains palindrome\n"
     ]
    }
   ],
   "source": [
    "list1=[1,2,3,2,1]\n",
    "\n",
    "list2=list1.copy()\n",
    "list1.reverse()\n",
    "\n",
    "if(list1==list2):\n",
    "     print(\"list contains palindrome\")\n",
    "else:\n",
    "    print(\"list does not contain palindrome\")"
   ]
  },
  {
   "cell_type": "markdown",
   "id": "d92b93b2",
   "metadata": {},
   "source": [
    "3. write a program to count the number of students with the \"A\" grade in the following tuple (\"C\",\"D\",\"A\",\"A\",\"B\",\"A\")"
   ]
  },
  {
   "cell_type": "code",
   "execution_count": 24,
   "id": "dccf47b0",
   "metadata": {},
   "outputs": [
    {
     "name": "stdout",
     "output_type": "stream",
     "text": [
      "3\n"
     ]
    }
   ],
   "source": [
    "grade=(\"C\",\"D\",\"A\",\"A\",\"B\",\"A\")\n",
    "\n",
    "print(grade.count(\"A\"))"
   ]
  },
  {
   "cell_type": "markdown",
   "id": "0eeb5088",
   "metadata": {},
   "source": [
    "## 3.Dictionary\n",
    "\n",
    "- Dictionaries are used to store data values in key:value pairs\n",
    "- they are unordered, mutable & don't allow duplicates keys\n",
    "- dictionary **values** can be any datatype\n",
    "- dictionary **key** can not be list or tuple\n",
    "- Syntax :   dict ={key1:value1, key2:value2, key3:value3}\n",
    "- empty dictionary: dict ={}"
   ]
  },
  {
   "cell_type": "code",
   "execution_count": 26,
   "id": "09f331ba",
   "metadata": {},
   "outputs": [
    {
     "name": "stdout",
     "output_type": "stream",
     "text": [
      "{'name': 'Riya', 'Age': 20, 'Grade': 'B'}\n",
      "<class 'dict'>\n"
     ]
    }
   ],
   "source": [
    "dict={\"name\":\"Riya\", \"Age\":20, \"Grade\":\"B\", \"Subject\":(\"Maths\",\"English\")}\n",
    "\n",
    "print(dict)\n",
    "print(type(dict))"
   ]
  },
  {
   "cell_type": "code",
   "execution_count": 33,
   "id": "dc0270ef",
   "metadata": {},
   "outputs": [
    {
     "name": "stdout",
     "output_type": "stream",
     "text": [
      "Riya\n"
     ]
    }
   ],
   "source": [
    "info={\"name\":\"Riya\",\n",
    "      \"Age\":20,\n",
    "      \"Grade\":\"B\",\n",
    "      \"Subject\":(\"Maths\",\"English\")}\n",
    "\n",
    "print(info[\"name\"])"
   ]
  },
  {
   "cell_type": "code",
   "execution_count": 34,
   "id": "2b0a81ce",
   "metadata": {},
   "outputs": [
    {
     "name": "stdout",
     "output_type": "stream",
     "text": [
      "{'name': 'Priya', 'Age': 20, 'Grade': 'B', 'Subject': ('Maths', 'English'), 'surname': 'Sharma'}\n"
     ]
    }
   ],
   "source": [
    "#update info dictionary\n",
    "\n",
    "info[\"name\"]=\"Priya\"\n",
    "info[\"surname\"]=\"Sharma\"  #added new key value pair\n",
    "\n",
    "print(info)"
   ]
  },
  {
   "cell_type": "markdown",
   "id": "d2137498",
   "metadata": {},
   "source": [
    "#### Nested Dictionary"
   ]
  },
  {
   "cell_type": "code",
   "execution_count": 46,
   "id": "c96f4478",
   "metadata": {},
   "outputs": [
    {
     "name": "stdout",
     "output_type": "stream",
     "text": [
      "{'name': 'Riya', 'Age': 20, 'Grade': 'B', 'Subject': {'Maths': 60, 'English': 90}}\n",
      "{'Maths': 60, 'English': 90}\n",
      "60\n"
     ]
    }
   ],
   "source": [
    "student={\"name\":\"Riya\",\n",
    "      \"Age\":20,\n",
    "      \"Grade\":\"B\",\n",
    "      \"Subject\":{\"Maths\":60,\"English\":90}}\n",
    "\n",
    "print(student)\n",
    "print(student[\"Subject\"])\n",
    "print(student[\"Subject\"][\"Maths\"])\n"
   ]
  },
  {
   "cell_type": "markdown",
   "id": "20f59349",
   "metadata": {},
   "source": [
    "### Dictionary Functions"
   ]
  },
  {
   "cell_type": "code",
   "execution_count": 55,
   "id": "73d97fa3",
   "metadata": {},
   "outputs": [
    {
     "name": "stdout",
     "output_type": "stream",
     "text": [
      "dict_keys(['name', 'Age', 'Grade', 'Subject'])\n",
      "dict_values(['Riya', 20, 'B', {'Maths': 60, 'English': 90}])\n",
      "dict_items([('name', 'Riya'), ('Age', 20), ('Grade', 'B'), ('Subject', {'Maths': 60, 'English': 90})])\n",
      "20\n",
      "{'name': 'Riya', 'Age': 20, 'Grade': 'B', 'Subject': {'Maths': 60, 'English': 90}, 'city': 'Pune'}\n"
     ]
    }
   ],
   "source": [
    "#Keys()\n",
    "print(student.keys())  #result is in tuple \n",
    "\n",
    "#values\n",
    "print(student.values())\n",
    "\n",
    "#items\n",
    "print(student.items()) #convert each key:value as tuples and returns list of tuples\n",
    "\n",
    "#get()\n",
    "print(student.get(\"Age\"))\n",
    "\n",
    "#Update(newDict)\n",
    "student.update({\"city\":\"Pune\"})\n",
    "print(student)"
   ]
  },
  {
   "cell_type": "markdown",
   "id": "b1818625",
   "metadata": {},
   "source": [
    "## 3.Set \n",
    "\n",
    "- set is the collection of unordered items\n",
    "- each collection in the set must be unique & immutable \n",
    "- we can not store list or dictionary in set\n",
    "- Syntax :  set_name ={val1,val2,val3}\n",
    "- empty set : set_name = set()\n",
    "\n",
    "***interview question: set is mutable or not? - ans: set's existing elements can not be change or update, but we can add or remove new elemets in the set***"
   ]
  },
  {
   "cell_type": "code",
   "execution_count": 67,
   "id": "cc2bb1b3",
   "metadata": {},
   "outputs": [
    {
     "name": "stdout",
     "output_type": "stream",
     "text": [
      "{1, 2, 3, 4, 6, 7, 8, 'd'}\n",
      "8\n"
     ]
    }
   ],
   "source": [
    "collection ={1,2,4,\"d\",4,6,7,3,8}\n",
    "\n",
    "print(collection)  #it will ignore the duplicate values\n",
    "\n",
    "print(len(collection)) #it will ignore the duplicate values"
   ]
  },
  {
   "cell_type": "markdown",
   "id": "8bc19d29",
   "metadata": {},
   "source": [
    "### Set Functions"
   ]
  },
  {
   "cell_type": "code",
   "execution_count": 76,
   "id": "c1f283dd",
   "metadata": {},
   "outputs": [
    {
     "name": "stdout",
     "output_type": "stream",
     "text": [
      "{1, 2, 3, 4, 6, 7, 8, 'C', 'd'}\n",
      "{1, 2, 3, 4, 6, 7, 8, 'C'}\n",
      "1\n",
      "set()\n",
      "{1, 2, 3, 4, 5, 7}\n",
      "{3}\n"
     ]
    }
   ],
   "source": [
    "collection ={1,2,4,\"d\",4,6,7,3,8}\n",
    "#add\n",
    "collection.add(\"C\")\n",
    "print(collection)\n",
    "\n",
    "#remove\n",
    "collection.remove(\"d\")\n",
    "print(collection)\n",
    "\n",
    "#pop\n",
    "print(collection.pop())  #pop any random value\n",
    "\n",
    "#clear\n",
    "collection.clear()  #will empty the set\n",
    "print(collection)\n",
    "\n",
    "#union\n",
    "set1={1,3,4}\n",
    "set2={2,5,7,3}\n",
    "print(set1.union(set2))\n",
    "\n",
    "#intersection\n",
    "print(set1.intersection(set2))"
   ]
  },
  {
   "cell_type": "markdown",
   "id": "729bdf36",
   "metadata": {},
   "source": [
    "### Practice Exercise\n",
    "\n",
    "- you are given a list of subjects for students. Assume one classroom is required for 1 subject. How many classrooms are needed by all students.\n",
    "\n",
    " subjects : python,java,C++,python,javascript,java,python,java,C++,C"
   ]
  },
  {
   "cell_type": "code",
   "execution_count": 78,
   "id": "c5e31bb6",
   "metadata": {},
   "outputs": [
    {
     "name": "stdout",
     "output_type": "stream",
     "text": [
      "no. of classrooms required: 5\n"
     ]
    }
   ],
   "source": [
    "subjects={\"python\",\"java\",\"C++\",\"python\",\"javascript\",\"java\",\"python\",\"java\",\"C++\",\"C\"}\n",
    "\n",
    "print(\"no. of classrooms required:\",len(subjects))"
   ]
  },
  {
   "cell_type": "markdown",
   "id": "20f26a08",
   "metadata": {},
   "source": [
    "## Loops\n",
    "\n",
    "### 1.While Loops\n",
    "\n",
    "***Syntax*** :\\  \n",
    "While condition:\\\n",
    "    #some work\\\n",
    "    \n",
    "While loop will execute the process untill the condition is true"
   ]
  },
  {
   "cell_type": "code",
   "execution_count": 79,
   "id": "95a2aa28",
   "metadata": {},
   "outputs": [
    {
     "name": "stdout",
     "output_type": "stream",
     "text": [
      "hello\n",
      "hello\n",
      "hello\n",
      "hello\n",
      "hello\n"
     ]
    }
   ],
   "source": [
    "#print hello five times using while loop\n",
    "count=1\n",
    "while count<=5:\n",
    "    print(\"hello\")\n",
    "    count += 1  #it is same as (count=count+1)\n",
    "    "
   ]
  },
  {
   "cell_type": "markdown",
   "id": "bb5c2790",
   "metadata": {},
   "source": [
    "### Let's Practice\n",
    "\n",
    "1.Print numbers from 1 to 10"
   ]
  },
  {
   "cell_type": "code",
   "execution_count": 81,
   "id": "b9035cec",
   "metadata": {},
   "outputs": [
    {
     "name": "stdout",
     "output_type": "stream",
     "text": [
      "1\n",
      "2\n",
      "3\n",
      "4\n",
      "5\n",
      "6\n",
      "7\n",
      "8\n",
      "9\n",
      "10\n"
     ]
    }
   ],
   "source": [
    "i=1\n",
    "while i<=10:\n",
    "    print(i)\n",
    "    i=i+1"
   ]
  },
  {
   "cell_type": "markdown",
   "id": "c4fb737b",
   "metadata": {},
   "source": [
    "2. print numbers from 10 to 1"
   ]
  },
  {
   "cell_type": "code",
   "execution_count": 85,
   "id": "166eca0e",
   "metadata": {},
   "outputs": [
    {
     "name": "stdout",
     "output_type": "stream",
     "text": [
      "10\n",
      "9\n",
      "8\n",
      "7\n",
      "6\n",
      "5\n",
      "4\n",
      "3\n",
      "2\n",
      "1\n"
     ]
    }
   ],
   "source": [
    "i=10\n",
    "while i>=1:\n",
    "    print(i)\n",
    "    i -= 1"
   ]
  },
  {
   "cell_type": "markdown",
   "id": "e595e6c5",
   "metadata": {},
   "source": [
    "3.print the multiplication table of a number n"
   ]
  },
  {
   "cell_type": "code",
   "execution_count": 86,
   "id": "65cf9d5d",
   "metadata": {},
   "outputs": [
    {
     "name": "stdout",
     "output_type": "stream",
     "text": [
      "5\n",
      "1 * 5 = 5\n",
      "2 * 5 = 10\n",
      "3 * 5 = 15\n",
      "4 * 5 = 20\n",
      "5 * 5 = 25\n",
      "6 * 5 = 30\n",
      "7 * 5 = 35\n",
      "8 * 5 = 40\n",
      "9 * 5 = 45\n",
      "10 * 5 = 50\n"
     ]
    }
   ],
   "source": [
    "n=int(input())\n",
    "i=1\n",
    "while i<=10:\n",
    "    print(i,'*',n,'=',i*n)\n",
    "    i=i+1"
   ]
  },
  {
   "cell_type": "markdown",
   "id": "25cb78d3",
   "metadata": {},
   "source": [
    "4.Print the elements of the following list using a loop\n",
    " [1,4,9,16,25,36,7]"
   ]
  },
  {
   "cell_type": "code",
   "execution_count": 87,
   "id": "08433de3",
   "metadata": {},
   "outputs": [
    {
     "name": "stdout",
     "output_type": "stream",
     "text": [
      "1\n",
      "4\n",
      "9\n",
      "16\n",
      "25\n",
      "36\n",
      "7\n"
     ]
    }
   ],
   "source": [
    "list1=[1,4,9,16,25,36,7]\n",
    "i=0\n",
    "while i<len(list1):\n",
    "    print(list1[i])\n",
    "    i=i+1"
   ]
  },
  {
   "cell_type": "markdown",
   "id": "175195f0",
   "metadata": {},
   "source": [
    "### Break & continue keyword\n",
    "\n",
    "***Break*** : Break keyword will terminate the whole loop and come out of it.\\\n",
    "***Continue*** : continue will only terminate current iteration and move on to the next iteration"
   ]
  },
  {
   "cell_type": "markdown",
   "id": "a94f7af4",
   "metadata": {},
   "source": [
    "5.search for number x given by user in this tuple using loop\\\n",
    "(1,4,9,16,25,36,7)"
   ]
  },
  {
   "cell_type": "code",
   "execution_count": 99,
   "id": "5ff6b0db",
   "metadata": {},
   "outputs": [
    {
     "name": "stdout",
     "output_type": "stream",
     "text": [
      "enter a number:0\n",
      "your number is not present in the list\n"
     ]
    }
   ],
   "source": [
    "x=int(input(\"enter a number:\"))\n",
    "tup=(1,4,9,16,25,36,7)\n",
    "i=0\n",
    "\n",
    "while i<len(tup):\n",
    "    if(tup[i]==x):\n",
    "        print(\"your number is present in the list\")\n",
    "        break\n",
    "    i=i+1\n",
    "if(i==len(tup)):\n",
    "    print(\"your number is not present in the list\")"
   ]
  },
  {
   "cell_type": "markdown",
   "id": "552222f9",
   "metadata": {},
   "source": [
    "6.Print only odd numbers from 1 to 10"
   ]
  },
  {
   "cell_type": "code",
   "execution_count": 101,
   "id": "e36008b4",
   "metadata": {},
   "outputs": [
    {
     "name": "stdout",
     "output_type": "stream",
     "text": [
      "1\n",
      "3\n",
      "5\n",
      "7\n",
      "9\n"
     ]
    }
   ],
   "source": [
    "i=1\n",
    "while i<=10:\n",
    "    if(i%2==0):\n",
    "        i=i+1\n",
    "        continue\n",
    "    print(i)\n",
    "    i=i+1"
   ]
  },
  {
   "cell_type": "markdown",
   "id": "b43f3798",
   "metadata": {},
   "source": [
    "### 2.For Loop\n",
    "\n",
    "- for sequential travers we use for loop\n",
    "\n",
    "***Syntax***\\\n",
    "***for loop***\\\n",
    "for i in list:\\\n",
    " some work\\\n",
    "\\\n",
    "***for loop with else***\\\n",
    "for i in list:\\\n",
    "some work\\\n",
    "else:\\\n",
    "work when loop ends"
   ]
  },
  {
   "cell_type": "code",
   "execution_count": 103,
   "id": "0652cfc3",
   "metadata": {},
   "outputs": [
    {
     "name": "stdout",
     "output_type": "stream",
     "text": [
      "mon\n",
      "tue\n",
      "wed\n",
      "thus\n",
      "fri\n",
      "sat\n",
      "sun\n",
      "end\n"
     ]
    }
   ],
   "source": [
    "#example\n",
    "days=[\"mon\",\"tue\",\"wed\",\"thus\",\"fri\",\"sat\",\"sun\"]\n",
    "\n",
    "for value in days:\n",
    "    print(value)\n",
    "else:            #else is optional when you want to do some work after loop you can use else \n",
    "    print(\"end\")"
   ]
  },
  {
   "cell_type": "markdown",
   "id": "4dc035b3",
   "metadata": {},
   "source": [
    "### Let's Practice\n",
    "\n",
    "1.print the elements for the following list using a loop\\\n",
    "[4,6,3,7,2,8]"
   ]
  },
  {
   "cell_type": "code",
   "execution_count": 104,
   "id": "f154ba83",
   "metadata": {},
   "outputs": [
    {
     "name": "stdout",
     "output_type": "stream",
     "text": [
      "4\n",
      "6\n",
      "3\n",
      "7\n",
      "2\n",
      "8\n"
     ]
    }
   ],
   "source": [
    "a=[4,6,3,7,2,8]\n",
    "\n",
    "for i in a:\n",
    "    print(i)"
   ]
  },
  {
   "cell_type": "markdown",
   "id": "63edf5c1",
   "metadata": {},
   "source": [
    "2.search for number x in this tuple using loop\n",
    "(4,28,78,45,2,0)\n",
    "\\\n",
    "\n",
    "Note: when we check one by one element from list to search perticular lement it is called ***Linear Search***"
   ]
  },
  {
   "cell_type": "code",
   "execution_count": 110,
   "id": "60ba6e98",
   "metadata": {},
   "outputs": [
    {
     "name": "stdout",
     "output_type": "stream",
     "text": [
      "Enter a number:4\n",
      "found\n"
     ]
    }
   ],
   "source": [
    "x=int(input(\"Enter a number:\"))\n",
    "t=(4,28,78,45,2,0)\n",
    "\n",
    "for i in t:\n",
    "    if(i==x):\n",
    "        print(\"found\")\n",
    "        break\n",
    "#else will only excute when for loop is fully completed \n",
    "#if it break in between then else part will not execute \n",
    "else:    \n",
    "    print(\"not found\")"
   ]
  },
  {
   "cell_type": "markdown",
   "id": "4631e442",
   "metadata": {},
   "source": [
    "### Range() function\n",
    "\n",
    "-range function returns a sequence of numbers,starting from 0 by default, and increments by 1(by default) and stops before a specified number.\n",
    "\n",
    "***Syntax*** :\\\n",
    "range(start_where,stop,step_size)"
   ]
  },
  {
   "cell_type": "code",
   "execution_count": 113,
   "id": "cf45efbb",
   "metadata": {},
   "outputs": [
    {
     "name": "stdout",
     "output_type": "stream",
     "text": [
      "0\n",
      "1\n",
      "2\n",
      "3\n",
      "4\n"
     ]
    }
   ],
   "source": [
    "seq = range(5)  #it will store 0 to 4 number in a list \n",
    "#here 0 is start by default,5 is stop condition, and 1 is step by default\n",
    "for i in seq:\n",
    "    print(i)"
   ]
  },
  {
   "cell_type": "code",
   "execution_count": 114,
   "id": "1643edb1",
   "metadata": {},
   "outputs": [
    {
     "name": "stdout",
     "output_type": "stream",
     "text": [
      "2\n",
      "3\n",
      "4\n",
      "5\n",
      "6\n",
      "7\n",
      "8\n",
      "9\n"
     ]
    }
   ],
   "source": [
    " for i in range(2,10):  #as we have included start number it is started from 2\n",
    "        print(i)"
   ]
  },
  {
   "cell_type": "code",
   "execution_count": 115,
   "id": "7c3e06c9",
   "metadata": {},
   "outputs": [
    {
     "name": "stdout",
     "output_type": "stream",
     "text": [
      "2\n",
      "4\n",
      "6\n",
      "8\n"
     ]
    }
   ],
   "source": [
    "for i in range(2,10,2):\n",
    "    print(i)"
   ]
  },
  {
   "cell_type": "markdown",
   "id": "1ea55b01",
   "metadata": {},
   "source": [
    "### Let's Practice\n",
    "\n",
    "print numbers from 10 to 1"
   ]
  },
  {
   "cell_type": "code",
   "execution_count": 116,
   "id": "16a66f61",
   "metadata": {},
   "outputs": [
    {
     "name": "stdout",
     "output_type": "stream",
     "text": [
      "10\n",
      "9\n",
      "8\n",
      "7\n",
      "6\n",
      "5\n",
      "4\n",
      "3\n",
      "2\n",
      "1\n"
     ]
    }
   ],
   "source": [
    "for i in range(10,0,-1):\n",
    "    print(i)"
   ]
  },
  {
   "cell_type": "markdown",
   "id": "569e90fd",
   "metadata": {},
   "source": [
    "Print multiplication table of n number"
   ]
  },
  {
   "cell_type": "code",
   "execution_count": 117,
   "id": "52d8d913",
   "metadata": {},
   "outputs": [
    {
     "name": "stdout",
     "output_type": "stream",
     "text": [
      "Enter a number3\n",
      "3\n",
      "6\n",
      "9\n",
      "12\n",
      "15\n",
      "18\n",
      "21\n",
      "24\n",
      "27\n",
      "30\n"
     ]
    }
   ],
   "source": [
    "n= int(input(\"Enter a number\"))\n",
    "\n",
    "for  i in range(1,11):\n",
    "    print(n*i)"
   ]
  },
  {
   "cell_type": "markdown",
   "id": "a4a0d058",
   "metadata": {},
   "source": [
    "### Pass Statement\n",
    "\n",
    "pass is null statement that does nothing. It is used as a placeholder for future code."
   ]
  },
  {
   "cell_type": "code",
   "execution_count": 118,
   "id": "c484926d",
   "metadata": {},
   "outputs": [],
   "source": [
    "for i in range(5):\n",
    "    pass"
   ]
  },
  {
   "cell_type": "markdown",
   "id": "7cf72155",
   "metadata": {},
   "source": [
    "## Functions\n",
    "\n",
    "- function is block of statements that perform a specific task. function is used to reduce redendancy in the code and increase reusability\\\n",
    "\\\n",
    "Syntax: \\\n",
    "#defination of function or declare function as \\\n",
    "def Fun_name(parameter_1,parameter_2,....):\\\n",
    "    some work\\\n",
    "    return value\\\n",
    "\\\n",
    "#function call\\\n",
    "fun_name(argumnets1,argument2,..)\\\n",
    "\\\n",
    "Note: function may or may not return a value. It's optional\n"
   ]
  },
  {
   "cell_type": "code",
   "execution_count": 119,
   "id": "9ab8c1a5",
   "metadata": {},
   "outputs": [
    {
     "name": "stdout",
     "output_type": "stream",
     "text": [
      "7\n"
     ]
    }
   ],
   "source": [
    "#Sum function\n",
    "\n",
    "def cal_sum(a,b):\n",
    "    sum=a+b\n",
    "    print(sum)\n",
    "\n",
    "cal_sum(3,4)"
   ]
  },
  {
   "cell_type": "markdown",
   "id": "a8571c6a",
   "metadata": {},
   "source": [
    "#### Types of function\n",
    "\n",
    "1.Bulit-in functions :-\\\n",
    "    - this functions are already defined in the python.you can directly use those functions. \\\n",
    "    - e.g print(),input(),len(),type()\n",
    "\\\n",
    "2.user defined functions :-\\\n",
    "    - this function is defined by user.\n",
    "    \n",
    "#### Default Parameters\n",
    "Assigning a default value to parameter, which is used when no argument is passed.\n",
    "\n",
    "Note: 1.you can make some parameter as defualt parameter and some as normal parameter\\\n",
    "2.default parameter should always be on right of normal parameters"
   ]
  },
  {
   "cell_type": "code",
   "execution_count": 127,
   "id": "09652214",
   "metadata": {},
   "outputs": [
    {
     "name": "stdout",
     "output_type": "stream",
     "text": [
      "1\n",
      "3\n",
      "8\n"
     ]
    }
   ],
   "source": [
    "#product function\n",
    "\n",
    "def cal_prod(a=1,b=1): #we assigned default value to the parameters\n",
    "    prod=a*b\n",
    "    print(prod)\n",
    "\n",
    "cal_prod()  #as we have not passed any arg it took default value\n",
    "cal_prod(3) #as we have passed only 1 value it took a=1 & b=3\n",
    "cal_prod(2,4) # it took a=2,b=4"
   ]
  },
  {
   "cell_type": "markdown",
   "id": "1c6610f2",
   "metadata": {},
   "source": [
    "### Let's Practice\n",
    "\n",
    "1.Calculate factorial of n using function"
   ]
  },
  {
   "cell_type": "code",
   "execution_count": null,
   "id": "043456a6",
   "metadata": {},
   "outputs": [],
   "source": []
  },
  {
   "cell_type": "markdown",
   "id": "0bd9e24e",
   "metadata": {},
   "source": [
    "2.Create a function to convert Euro t INR "
   ]
  },
  {
   "cell_type": "code",
   "execution_count": null,
   "id": "dc10e45c",
   "metadata": {},
   "outputs": [],
   "source": []
  },
  {
   "cell_type": "markdown",
   "id": "028f605b",
   "metadata": {},
   "source": [
    "### Recursion\n",
    "\n",
    "when a function calls itself repeatedly it is called recursive function.\n",
    "It is same as loops."
   ]
  },
  {
   "cell_type": "code",
   "execution_count": 130,
   "id": "f7eef4dd",
   "metadata": {},
   "outputs": [
    {
     "name": "stdout",
     "output_type": "stream",
     "text": [
      "5\n",
      "4\n",
      "3\n",
      "2\n",
      "1\n"
     ]
    }
   ],
   "source": [
    "#print n to 1 numbers \n",
    "def show(n):\n",
    "    if(n==0):\n",
    "        return\n",
    "    print(n)\n",
    "    show(n-1)   #show function is calling itself\n",
    "\n",
    "#call function only once\n",
    "show(5)"
   ]
  },
  {
   "cell_type": "code",
   "execution_count": 131,
   "id": "ad927e2e",
   "metadata": {},
   "outputs": [
    {
     "name": "stdout",
     "output_type": "stream",
     "text": [
      "120\n"
     ]
    }
   ],
   "source": [
    "#print factorial n!\n",
    "def fact(n):\n",
    "    if(n==0 or n==1):\n",
    "        return 1\n",
    "    else:\n",
    "        return n*fact(n-1)\n",
    "    \n",
    "factorial=fact(5)\n",
    "print(factorial)"
   ]
  },
  {
   "cell_type": "markdown",
   "id": "b752d1cc",
   "metadata": {},
   "source": [
    "## File Input/output in python\n",
    "\n",
    "python can be used to perform operations on a file.(read & write data)\n",
    "\n",
    "types of all files\\\n",
    "1.Text files : .txt, .docx , .log etc\\\n",
    "2.Binary files : .mp4, .mov, .png, .jpeg\\\n",
    "\n",
    "### Open, Read & Close file\n",
    "\n",
    "f=open(\"file_name\",\"mode\")\n",
    "\n",
    "Mode\\\n",
    "'r'- read file\\\n",
    "'w'- open file for writing, truncating the file first\\\n",
    "'x'- Create a new file and open it for writing\\\n",
    "'a'- open for writing, appending to the END of the file it it exists\\\n",
    "'b'- Binary mode\\\n",
    "'t'- text mode(default)\\\n",
    "'+'- Open a disk file for updating(reading and writing)\n",
    "'r+'- we can read and write the file.it will not truncate file but pointer will be at the start\\\n",
    "'w+'- we can read write the file. It will truncate the file \\\n",
    "'a+'- we can read & append data in file. It will not truncate the file but pointer will be at the end\\\n",
    "\n",
    "file.read()\\\n",
    "file.readline() - read file line by line"
   ]
  },
  {
   "cell_type": "code",
   "execution_count": 134,
   "id": "2196bfdc",
   "metadata": {},
   "outputs": [
    {
     "name": "stdout",
     "output_type": "stream",
     "text": [
      "My name is Aarati.\n"
     ]
    }
   ],
   "source": [
    "f=open(\"MyFile.txt\",\"r\")\n",
    "\n",
    "print(f.read())\n",
    "f.close()"
   ]
  },
  {
   "cell_type": "markdown",
   "id": "ff009d11",
   "metadata": {},
   "source": [
    "writing to file"
   ]
  },
  {
   "cell_type": "code",
   "execution_count": 136,
   "id": "0b17c0e5",
   "metadata": {},
   "outputs": [],
   "source": [
    "f=open(\"MyFile.txt\",\"w\")\n",
    "\n",
    "f.write(\"\\nI am a data Engineer\")  #it will trucate all data from file and write new data\n",
    "f.close()"
   ]
  },
  {
   "cell_type": "markdown",
   "id": "e948b9fb",
   "metadata": {},
   "source": [
    "#### With Syntax\n",
    "\n",
    "with open(\"demo.txt\",\"a\") as f:\\\n",
    "    data=f.read()\\\n",
    "    \n",
    "It will close the file automatically"
   ]
  },
  {
   "cell_type": "code",
   "execution_count": 138,
   "id": "9478d996",
   "metadata": {},
   "outputs": [
    {
     "name": "stdout",
     "output_type": "stream",
     "text": [
      "\n",
      "I am a data Engineer\n"
     ]
    }
   ],
   "source": [
    "with open(\"MyFile.txt\",\"r\") as f:\n",
    "    data=f.read()\n",
    "    print(data)\n",
    "    \n",
    "with open(\"MyFile.txt\",\"w\") as f:\n",
    "    f.write(\"New Data\")"
   ]
  },
  {
   "cell_type": "markdown",
   "id": "675b5915",
   "metadata": {},
   "source": [
    "### Deleting a file\n",
    "\n",
    "using the os module\\\n",
    "\n",
    "import os\\\n",
    "os.remove(filename)"
   ]
  },
  {
   "cell_type": "code",
   "execution_count": 139,
   "id": "7878466f",
   "metadata": {},
   "outputs": [],
   "source": [
    "import os\n",
    "\n",
    "os.remove(\"MyFile.txt\")"
   ]
  },
  {
   "cell_type": "markdown",
   "id": "2e041737",
   "metadata": {},
   "source": [
    "## Let's Practice\n",
    "\n",
    "1. Create a new file \"Practice.txt\" using python. Add the following data in it\\\n",
    "Hi everyone\\\n",
    "We are learning file I/O\\\n",
    "using Java\\\n",
    "I like programming in Java."
   ]
  },
  {
   "cell_type": "code",
   "execution_count": 140,
   "id": "8bd25292",
   "metadata": {},
   "outputs": [],
   "source": [
    "with open(\"Practice.txt\",\"w\") as f:\n",
    "    f.write(\"Hi everyone\\nWe are learning file I/O \\n\")\n",
    "    f.write(\"using Java \\nI like programming in Java.\")"
   ]
  },
  {
   "cell_type": "markdown",
   "id": "e8295a68",
   "metadata": {},
   "source": [
    "2. Write a program to replace all occurences of \"Java\" with \"Python\" "
   ]
  },
  {
   "cell_type": "code",
   "execution_count": 141,
   "id": "9b2505f9",
   "metadata": {},
   "outputs": [
    {
     "name": "stdout",
     "output_type": "stream",
     "text": [
      "Hi everyone\n",
      "We are learning file I/O \n",
      "using Python \n",
      "I like programming in Python.\n"
     ]
    }
   ],
   "source": [
    "with open(\"Practice.txt\",\"r\") as f:\n",
    "    data=f.read()\n",
    "\n",
    "new_data=data.replace(\"Java\",\"Python\")\n",
    "print(new_data) \n",
    "\n",
    "with open(\"Practice.txt\",\"w\") as f:\n",
    "    data=f.write(new_data)"
   ]
  },
  {
   "cell_type": "markdown",
   "id": "f7d35062",
   "metadata": {},
   "source": [
    "3. Search if \"learning\" word in a file"
   ]
  },
  {
   "cell_type": "code",
   "execution_count": 143,
   "id": "9335f754",
   "metadata": {},
   "outputs": [
    {
     "name": "stdout",
     "output_type": "stream",
     "text": [
      "found\n"
     ]
    }
   ],
   "source": [
    "word=\"learning\"\n",
    "with open(\"Practice.txt\",\"r\") as f:\n",
    "    data=f.read()\n",
    "    if(data.find(word)!=-1):\n",
    "        print(\"found\")\n",
    "    else:\n",
    "        print(\"not found\")"
   ]
  },
  {
   "cell_type": "markdown",
   "id": "2e2d398d",
   "metadata": {},
   "source": [
    "# OOPs in Python\n",
    "\n",
    "## Class \n",
    "class is a blueprint for creating objects. for example if you want store info of many students then you can define class of students which will hold all related variables and functions of student.\n",
    "\n",
    "There are some bulit in class presnt in python e.g string,list,integer etc\n",
    "\n",
    "### Object\n",
    "object is instance of a class."
   ]
  },
  {
   "cell_type": "code",
   "execution_count": 148,
   "id": "2a571435",
   "metadata": {},
   "outputs": [
    {
     "name": "stdout",
     "output_type": "stream",
     "text": [
      "<__main__.student object at 0x000001A8FE533FA0>\n",
      "Karan\n",
      "1\n"
     ]
    }
   ],
   "source": [
    "#creating class\n",
    "class student:\n",
    "    name=\"Karan\"  #creating variables in class\n",
    "    roll_no=1\n",
    "    \n",
    "#creating object or instance of class\n",
    "s1=student()  #s1 is the object of class\n",
    "print(s1)\n",
    "print(s1.name)\n",
    "print(s1.roll_no)"
   ]
  },
  {
   "cell_type": "markdown",
   "id": "986d9314",
   "metadata": {},
   "source": [
    "### Constructor of class\n",
    "all classes have a function called '_ _init_ _()', which is always executed when the class is being initiated or you can say when isntance of class or object of class is created\n",
    "\n",
    "it will automatically created by python and it is called default constructor. you can modify this constructor function as well\n",
    "\n",
    "we pass **self** parameter to the constructor it a object of a class. It is mandatory parameter"
   ]
  },
  {
   "cell_type": "code",
   "execution_count": 153,
   "id": "7b07b2a7",
   "metadata": {},
   "outputs": [
    {
     "name": "stdout",
     "output_type": "stream",
     "text": [
      "It's a Constructor\n",
      "<__main__.Student object at 0x000001A8FE5335E0>\n",
      "It's a Constructor\n",
      "<__main__.Student object at 0x000001A8FE533B20>\n"
     ]
    }
   ],
   "source": [
    "class Student:\n",
    "    name=\"Karan\"\n",
    "    roll_no=1\n",
    "    \n",
    "    #default Constructor\n",
    "    def __init__(self):\n",
    "        print(\"It's a Constructor\")\n",
    "        print(self)\n",
    "        \n",
    "#student 1        \n",
    "s1=Student() #when you write class_name() then it will call constructor fun\n",
    "\n",
    "#student 2\n",
    "s2=Student()"
   ]
  },
  {
   "cell_type": "markdown",
   "id": "8b82f439",
   "metadata": {},
   "source": [
    "In above class we created student_1 student_2 but every time it is taking name as Karan and roll_no as 1, as variables have given fix value. to make class more usable and if want to create new student everytime then we can make class **constructor parameterised** as below\n",
    "\n",
    "variables created in class is called **attributes**"
   ]
  },
  {
   "cell_type": "code",
   "execution_count": 161,
   "id": "829533f4",
   "metadata": {},
   "outputs": [
    {
     "name": "stdout",
     "output_type": "stream",
     "text": [
      "Rahul\n",
      "1\n",
      "Riya\n",
      "2\n"
     ]
    }
   ],
   "source": [
    "class Student:\n",
    "\n",
    "    #Parameterised constructor\n",
    "    def __init__(self, fullname,RollNo):\n",
    "        self.name=fullname    #created variables and asigned parametrised values to it\n",
    "        self.roll_no=RollNo\n",
    "        \n",
    "#student 1        \n",
    "s1=Student(\"Rahul\",1) #passed rahul and 1 as arguments \n",
    "print(s1.name)\n",
    "print(s1.roll_no)\n",
    "\n",
    "#student 2\n",
    "s2=Student(\"Riya\",2) #passed riya and 2 as arguments \n",
    "print(s2.name)\n",
    "print(s2.roll_no)"
   ]
  },
  {
   "cell_type": "markdown",
   "id": "22d57e92",
   "metadata": {},
   "source": [
    "### Class & instance attributes\n",
    "\n",
    "there are 2 types of attributes\n",
    "1. **Class attributes** - class attributes(variables) are common for every objects created on a single class. e.g variable collage_name is common for every student\n",
    "\n",
    "2. **Instance attributes** - instance attributes are different for every object created on a class. e.g student name variable is different for every student"
   ]
  },
  {
   "cell_type": "code",
   "execution_count": 163,
   "id": "9bf55adf",
   "metadata": {},
   "outputs": [
    {
     "name": "stdout",
     "output_type": "stream",
     "text": [
      "Rahul\n",
      "1\n",
      "JSPM\n",
      "Riya\n",
      "2\n",
      "JSPM\n"
     ]
    }
   ],
   "source": [
    "class Student:\n",
    "    #class attribute\n",
    "    collage_name=\"JSPM\"\n",
    "    \n",
    "    #Parameterised constructor\n",
    "    def __init__(self, fullname,RollNo):\n",
    "        #instance attributes\n",
    "        self.name=fullname   \n",
    "        self.roll_no=RollNo\n",
    "        \n",
    "#student 1        \n",
    "s1=Student(\"Rahul\",1) \n",
    "print(s1.name)\n",
    "print(s1.roll_no)\n",
    "print(s1.collage_name)\n",
    "\n",
    "#student 2\n",
    "s2=Student(\"Riya\",2) \n",
    "print(s2.name)\n",
    "print(s2.roll_no)\n",
    "print(s2.collage_name)"
   ]
  },
  {
   "cell_type": "markdown",
   "id": "d60bb784",
   "metadata": {},
   "source": [
    "## Methods\n",
    "\n",
    "methods are functions that belong to objects.\n",
    "\n",
    "we have added constructors and variables in class, now we can create functions in the class."
   ]
  },
  {
   "cell_type": "code",
   "execution_count": 167,
   "id": "49de517e",
   "metadata": {},
   "outputs": [
    {
     "name": "stdout",
     "output_type": "stream",
     "text": [
      "Rahul\n",
      "1\n",
      "JSPM\n",
      "welcome student\n",
      "1\n"
     ]
    }
   ],
   "source": [
    "class Student:\n",
    "    #class attribute\n",
    "    collage_name=\"JSPM\"\n",
    "    \n",
    "    #Parameterised constructor\n",
    "    def __init__(self, fullname,RollNo):\n",
    "        #instance attributes\n",
    "        self.name=fullname   \n",
    "        self.roll_no=RollNo\n",
    "        \n",
    "    def welcome(self):\n",
    "        print(\"welcome student\")\n",
    "        \n",
    "    def get_RollNo(self):\n",
    "        return self.roll_no\n",
    "        \n",
    "#student 1        \n",
    "s1=Student(\"Rahul\",1) \n",
    "print(s1.name)\n",
    "print(s1.roll_no)\n",
    "print(s1.collage_name)\n",
    "\n",
    "#called the class method\n",
    "s1.welcome()  \n",
    "number=s1.get_RollNo()\n",
    "print(number)"
   ]
  },
  {
   "cell_type": "markdown",
   "id": "21eff806",
   "metadata": {},
   "source": [
    "## Let's Practice\n",
    "\n",
    "Create Student class that takes name & marks of 3 subjects as arguments in constructor. Then create a method to print the average."
   ]
  },
  {
   "cell_type": "code",
   "execution_count": 172,
   "id": "95bd9eb2",
   "metadata": {},
   "outputs": [
    {
     "name": "stdout",
     "output_type": "stream",
     "text": [
      "Hi Riya your average score is 75.0\n"
     ]
    }
   ],
   "source": [
    "class Student:\n",
    "    \n",
    "    def __init__(self,Name,Marks):\n",
    "        self.Name=Name\n",
    "        self.Marks=Marks\n",
    "        \n",
    "    def Average(self):\n",
    "        avg=( self.Marks[0] + self.Marks[1] + self.Marks[2] ) /3\n",
    "        print(\"Hi\",self.Name,\"your average score is\",avg)\n",
    "        \n",
    "s1=Student(\"Riya\",[60,78,87])\n",
    "s1.Average()"
   ]
  },
  {
   "cell_type": "markdown",
   "id": "d9f80a28",
   "metadata": {},
   "source": [
    "### Static Methods\n",
    "\n",
    "Methods that don't use the self parameter(work at class level) is called **static Methods**"
   ]
  },
  {
   "cell_type": "code",
   "execution_count": 173,
   "id": "e12bd64e",
   "metadata": {},
   "outputs": [
    {
     "name": "stdout",
     "output_type": "stream",
     "text": [
      "welcome student\n"
     ]
    }
   ],
   "source": [
    "class Student:\n",
    "    #class attribute\n",
    "    collage_name=\"JSPM\"\n",
    "    \n",
    "    #Parameterised constructor\n",
    "    def __init__(self, fullname,RollNo):\n",
    "        #instance attributes\n",
    "        self.name=fullname   \n",
    "        self.roll_no=RollNo\n",
    "    \n",
    "    @staticmethod    #decorator\n",
    "    def welcome():\n",
    "        print(\"welcome student\")\n",
    "        \n",
    "    def get_RollNo(self):\n",
    "        return self.roll_no\n",
    "        \n",
    "#student 1        \n",
    "s1=Student(\"Rahul\",1) \n",
    "\n",
    "#called the static method\n",
    "s1.welcome()  "
   ]
  },
  {
   "cell_type": "markdown",
   "id": "ddf8696c",
   "metadata": {},
   "source": [
    "### Del object\n",
    "used to delete object properties of a class"
   ]
  },
  {
   "cell_type": "code",
   "execution_count": 185,
   "id": "cd5e51a1",
   "metadata": {},
   "outputs": [
    {
     "name": "stdout",
     "output_type": "stream",
     "text": [
      "Riya\n"
     ]
    },
    {
     "ename": "NameError",
     "evalue": "name 's1' is not defined",
     "output_type": "error",
     "traceback": [
      "\u001b[1;31m---------------------------------------------------------------------------\u001b[0m",
      "\u001b[1;31mNameError\u001b[0m                                 Traceback (most recent call last)",
      "\u001b[1;32m<ipython-input-185-4b04f7fa0eb9>\u001b[0m in \u001b[0;36m<module>\u001b[1;34m\u001b[0m\n\u001b[0;32m      8\u001b[0m \u001b[1;32mdel\u001b[0m \u001b[0ms1\u001b[0m\u001b[1;33m\u001b[0m\u001b[1;33m\u001b[0m\u001b[0m\n\u001b[0;32m      9\u001b[0m \u001b[1;33m\u001b[0m\u001b[0m\n\u001b[1;32m---> 10\u001b[1;33m \u001b[0mprint\u001b[0m\u001b[1;33m(\u001b[0m\u001b[0ms1\u001b[0m\u001b[1;33m.\u001b[0m\u001b[0mname\u001b[0m\u001b[1;33m)\u001b[0m\u001b[1;33m\u001b[0m\u001b[1;33m\u001b[0m\u001b[0m\n\u001b[0m",
      "\u001b[1;31mNameError\u001b[0m: name 's1' is not defined"
     ]
    }
   ],
   "source": [
    "class Student:\n",
    "    def __init__(self,name):\n",
    "        self.name = name\n",
    "        \n",
    "s1= Student(\"Riya\")\n",
    "print(s1.name)\n",
    "\n",
    "del s1\n",
    "\n",
    "print(s1.name)  # as s1 is deleted it will gives an error "
   ]
  },
  {
   "cell_type": "markdown",
   "id": "8df9ee66",
   "metadata": {},
   "source": [
    "### Public & Private attribute and methods\n",
    "private attributes & methods are meant to be used only within the class and are not accessible from outside the class.\n",
    "\n",
    "To make variable and function in class private we add '__' before variable or function name"
   ]
  },
  {
   "cell_type": "code",
   "execution_count": 174,
   "id": "d0275c99",
   "metadata": {},
   "outputs": [
    {
     "ename": "AttributeError",
     "evalue": "'Person' object has no attribute '__name'",
     "output_type": "error",
     "traceback": [
      "\u001b[1;31m---------------------------------------------------------------------------\u001b[0m",
      "\u001b[1;31mAttributeError\u001b[0m                            Traceback (most recent call last)",
      "\u001b[1;32m<ipython-input-174-5d82c6f496e0>\u001b[0m in \u001b[0;36m<module>\u001b[1;34m\u001b[0m\n\u001b[0;32m      3\u001b[0m \u001b[1;33m\u001b[0m\u001b[0m\n\u001b[0;32m      4\u001b[0m \u001b[0mp1\u001b[0m\u001b[1;33m=\u001b[0m\u001b[0mPerson\u001b[0m\u001b[1;33m(\u001b[0m\u001b[1;33m)\u001b[0m\u001b[1;33m\u001b[0m\u001b[1;33m\u001b[0m\u001b[0m\n\u001b[1;32m----> 5\u001b[1;33m \u001b[0mprint\u001b[0m\u001b[1;33m(\u001b[0m\u001b[0mp1\u001b[0m\u001b[1;33m.\u001b[0m\u001b[0m__name\u001b[0m\u001b[1;33m)\u001b[0m\u001b[1;33m\u001b[0m\u001b[1;33m\u001b[0m\u001b[0m\n\u001b[0m",
      "\u001b[1;31mAttributeError\u001b[0m: 'Person' object has no attribute '__name'"
     ]
    }
   ],
   "source": [
    "class Person:\n",
    "    __name=\"Unknown\"  #private attribute\n",
    "    \n",
    "p1=Person()\n",
    "print(p1.__name)  # it gives the error as we can not access this outside the class"
   ]
  },
  {
   "cell_type": "markdown",
   "id": "2599037a",
   "metadata": {},
   "source": [
    "so private variables are created to kept some info private e.g interest_rate variable can be a private attribute in Bank_Account class.\\\n",
    "Similarly get_password() method can also be private method in a class\n",
    "\n",
    "### Let's Practice\n",
    "create Account class with 2 attribute - balance & acc_no. create methods for debit, credit & printing the balance"
   ]
  },
  {
   "cell_type": "code",
   "execution_count": 183,
   "id": "f84f08a5",
   "metadata": {},
   "outputs": [
    {
     "name": "stdout",
     "output_type": "stream",
     "text": [
      "your balance is  10000\n",
      "1000 is debited from your account!\n",
      "your balance is  9000\n",
      "500 is credited to your account!\n",
      "your balance is  9500\n"
     ]
    }
   ],
   "source": [
    "class Account:\n",
    "    \n",
    "    def __init__(self):\n",
    "        self.Acc_no=23458\n",
    "        self.balance=10000\n",
    "    \n",
    "    def get_balance(self):\n",
    "        print(\"your balance is \",self.balance)\n",
    "        \n",
    "    def debit(self,amt):\n",
    "        self.balance -= amt\n",
    "        print(amt,\"is debited from your account!\")\n",
    "        self.get_balance()\n",
    "        \n",
    "    def credit(self,amt):\n",
    "        self.balance += amt\n",
    "        print(amt,\"is credited to your account!\")\n",
    "        self.get_balance()\n",
    "        \n",
    "acc1=Account()\n",
    "acc1.get_balance()\n",
    "acc1.debit(1000)\n",
    "acc1.credit(500)"
   ]
  },
  {
   "cell_type": "markdown",
   "id": "1833c2db",
   "metadata": {},
   "source": [
    " ## Four Pillars of Object Oriented Programming\n",
    " \n",
    "***1.Abstraction\\\n",
    " 2.Encapsulation\\\n",
    " 3.Inheritance\\\n",
    " 4.Polymorphisom***\\\n",
    " \n",
    " ### Abstraction\n",
    " Hiding the implementation details of a class and only showing the essential features to the user."
   ]
  },
  {
   "cell_type": "code",
   "execution_count": 177,
   "id": "f424f08c",
   "metadata": {},
   "outputs": [
    {
     "name": "stdout",
     "output_type": "stream",
     "text": [
      "car started\n"
     ]
    }
   ],
   "source": [
    "class Car:\n",
    "    def __init(self):\n",
    "        self.Acc = False\n",
    "        self.brk = False\n",
    "        self.clutch = False\n",
    "        \n",
    "    def start(self):\n",
    "        self.clutch = True\n",
    "        self.acc = True\n",
    "        print(\"car started\")\n",
    "        \n",
    "car1=Car()\n",
    "car1.start()  \n",
    "#here when we call start function we don't know what kind of processes are\n",
    "#applied to start a car. It is written all inside the class this is called abstraction"
   ]
  },
  {
   "cell_type": "markdown",
   "id": "aab6be53",
   "metadata": {},
   "source": [
    "### 2.Encapsulation\n",
    "Wrapping data & function into single unit(object)\n",
    "\n",
    "### 3.Inheritance\n",
    "when one class(child/derived) derives the properties & methods of another class(parent/base)\n",
    "\n",
    "e.g\\\n",
    "class Car:   --it is a parent class\n",
    "\n",
    "class TataCar(Car):   --It is a child class\n",
    "\n",
    "here Car class will have some functions which will be given to TataCar class                    "
   ]
  },
  {
   "cell_type": "code",
   "execution_count": 188,
   "id": "0d83c738",
   "metadata": {},
   "outputs": [
    {
     "name": "stdout",
     "output_type": "stream",
     "text": [
      "Syros\n",
      "car started....\n"
     ]
    }
   ],
   "source": [
    "class Car:\n",
    "    @staticmethod\n",
    "    def start():\n",
    "        print(\"car started....\")\n",
    "        \n",
    "    @staticmethod\n",
    "    def stop():\n",
    "        print(\"car stoped....\")\n",
    "        \n",
    "class KiaCar(Car):\n",
    "    def __init__(self,name):\n",
    "        self.name=name\n",
    "        \n",
    "car1 = KiaCar(\"Syros\")\n",
    "car2 = KiaCar(\"Creta\")\n",
    "\n",
    "print(car1.name)\n",
    "car1.start()    \n",
    "#since KiaCar class does not have start function it should give an error.\n",
    "#but KiaCar class is inherited Car class all the functions and avariable of car class is available for KiaCar class"
   ]
  },
  {
   "cell_type": "markdown",
   "id": "89c2a171",
   "metadata": {},
   "source": [
    "### Inheritance type\n",
    "\n",
    "- Single inheritance\n",
    "- multilevel inheritance\n",
    "- multiple inheritance\n",
    "\n",
    "above example is of single inheritance where there is single parent -child is present\n",
    "\n",
    "- Multilevel inheritance\n",
    "\n",
    "In this there is one base class which is inherited by child class and that child again inherited by another child class."
   ]
  },
  {
   "cell_type": "code",
   "execution_count": 189,
   "id": "96d57fc4",
   "metadata": {},
   "outputs": [
    {
     "name": "stdout",
     "output_type": "stream",
     "text": [
      "car started....\n"
     ]
    }
   ],
   "source": [
    "class Car:\n",
    "    @staticmethod\n",
    "    def start():\n",
    "        print(\"car started....\")\n",
    "        \n",
    "    @staticmethod\n",
    "    def stop():\n",
    "        print(\"car stoped....\")\n",
    "        \n",
    "class KiaCar(Car):\n",
    "    def __init__(self,brand):\n",
    "        self.brand=brand\n",
    "        \n",
    "class Creta(KiaCar):\n",
    "    def __init__(self,type):\n",
    "        self.type =type\n",
    "        \n",
    "car1 = Creta(\"diesel\")\n",
    "car1.start()  \n",
    "#Creta can access objects from both Car & KiaCar class"
   ]
  },
  {
   "cell_type": "markdown",
   "id": "d5a104ad",
   "metadata": {},
   "source": [
    "- **Multiple inheritance**\n",
    "\n",
    "once child can have multiple parents."
   ]
  },
  {
   "cell_type": "code",
   "execution_count": 192,
   "id": "a3baf3bf",
   "metadata": {},
   "outputs": [
    {
     "name": "stdout",
     "output_type": "stream",
     "text": [
      "welcome to class A\n",
      "welcome to class B\n",
      "Welcome to class C\n"
     ]
    }
   ],
   "source": [
    "class A:\n",
    "    varA = \"welcome to class A\"\n",
    "    \n",
    "class B:\n",
    "    varB = \"welcome to class B\"\n",
    "    \n",
    "class C(A,B):\n",
    "    varC = \"Welcome to class C\"\n",
    "    \n",
    "c1=C()\n",
    "print(c1.varA)\n",
    "print(c1.varB)\n",
    "print(c1.varC)"
   ]
  },
  {
   "cell_type": "markdown",
   "id": "ae3166a5",
   "metadata": {},
   "source": [
    "#### Super Method\n",
    "super() method is used to access methods of the parent class"
   ]
  },
  {
   "cell_type": "code",
   "execution_count": 200,
   "id": "6db4c8e1",
   "metadata": {},
   "outputs": [
    {
     "name": "stdout",
     "output_type": "stream",
     "text": [
      "car started....\n",
      "Diesel\n"
     ]
    }
   ],
   "source": [
    "class Car:\n",
    "    def __init__(self,type):\n",
    "        self.type=type\n",
    "    \n",
    "    def start(self):\n",
    "        print(\"car started....\")\n",
    "        \n",
    "    @staticmethod\n",
    "    def stop():\n",
    "        print(\"car stoped....\")\n",
    "        \n",
    "class KiaCar(Car):\n",
    "    def __init__(self,name,type):\n",
    "        super().__init__(type)\n",
    "        self.name=name\n",
    "        super().start()\n",
    "        \n",
    "        \n",
    "car1 = KiaCar(\"Syros\",\"Diesel\")\n",
    "\n",
    "print(car1.type)"
   ]
  },
  {
   "cell_type": "markdown",
   "id": "29ceea9e",
   "metadata": {},
   "source": [
    "### class method\n",
    "a class method is bound to the class & receives the class as implicit first argument.\n"
   ]
  },
  {
   "cell_type": "code",
   "execution_count": 203,
   "id": "d4bf6dc8",
   "metadata": {},
   "outputs": [
    {
     "name": "stdout",
     "output_type": "stream",
     "text": [
      "Unknown\n",
      "Riya\n"
     ]
    }
   ],
   "source": [
    "class Person:\n",
    "    name=\"Unknown\"\n",
    "    \n",
    "    @classmethod\n",
    "    def changeName(cls, name):\n",
    "        cls.name = name\n",
    "        \n",
    "P1=Person()\n",
    "print(P1.name)\n",
    "\n",
    "P1.changeName(\"Riya\")  #It will change the class variable value \n",
    "print(P1.name)"
   ]
  },
  {
   "cell_type": "markdown",
   "id": "e558c1ca",
   "metadata": {},
   "source": [
    "**Summarise method types**\n",
    "\n",
    "1. **Static methods** - when we are not using or accesing any class objects or any instance objects in method we use static methods.\n",
    "2. **class methods** - when we want to change only class objects or variable then we use class methods. we pass class object while creating class methods like changeName(**cls**)\n",
    "3. **instance methods(normal methods)** - when we want to use & change instance attribute we use instance methods. we pass instance object while creating this method like print_balance(**self**)"
   ]
  },
  {
   "cell_type": "markdown",
   "id": "e51db8a0",
   "metadata": {},
   "source": [
    "## 4.Polymorphism \n",
    "\n",
    "when same operator is allowed to have different meaning according to context it is called polymorphism\n",
    "\n",
    "e.g '+' operator in case of number adds to number\\\n",
    "'+' operator in case of string concatenate 2 strings\\\n",
    "'+' operator in case of string merge the 2 list"
   ]
  },
  {
   "cell_type": "code",
   "execution_count": 205,
   "id": "858c58e2",
   "metadata": {},
   "outputs": [
    {
     "name": "stdout",
     "output_type": "stream",
     "text": [
      "7\n",
      "HelloWorld\n",
      "[2, 3, 4, 5, 6, 7]\n"
     ]
    }
   ],
   "source": [
    "print(3 + 4)  #addition 7\n",
    "print(\"Hello\" +  \"World\")  #Concatenate\n",
    "print([2,3,4]+[5,6,7])  #merge"
   ]
  },
  {
   "cell_type": "markdown",
   "id": "258582f2",
   "metadata": {},
   "source": [
    "hence same '+' operator is performing different operations which is define in perticluar class."
   ]
  }
 ],
 "metadata": {
  "kernelspec": {
   "display_name": "Python 3",
   "language": "python",
   "name": "python3"
  },
  "language_info": {
   "codemirror_mode": {
    "name": "ipython",
    "version": 3
   },
   "file_extension": ".py",
   "mimetype": "text/x-python",
   "name": "python",
   "nbconvert_exporter": "python",
   "pygments_lexer": "ipython3",
   "version": "3.8.8"
  }
 },
 "nbformat": 4,
 "nbformat_minor": 5
}
